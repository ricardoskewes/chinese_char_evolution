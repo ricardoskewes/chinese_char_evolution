{
 "cells": [
  {
   "cell_type": "code",
   "execution_count": 1,
   "metadata": {},
   "outputs": [
    {
     "name": "stderr",
     "output_type": "stream",
     "text": [
      "/n/home02/rskeweszorrilla/miniconda/envs/weber_env_2/lib/python3.8/site-packages/torchvision/io/image.py:13: UserWarning: Failed to load image Python extension: 'libc10_cuda.so: cannot open shared object file: No such file or directory'If you don't plan on using image functionality from `torchvision.io`, you can ignore this warning. Otherwise, there might be something wrong with your environment. Did you have `libjpeg` or `libpng` installed before building `torchvision` from source?\n",
      "  warn(\n"
     ]
    }
   ],
   "source": [
    "\n",
    "import torch\n",
    "import torchvision.models as models\n",
    "import torchvision.transforms as transforms\n",
    "from PIL import Image\n",
    "import os\n",
    "import numpy as np\n",
    "from sklearn.preprocessing import LabelEncoder\n",
    "from torch_geometric.data import Data\n",
    "from tqdm import tqdm\n",
    "from torch_geometric.nn import Node2Vec\n",
    "from itertools import permutations\n"
   ]
  },
  {
   "cell_type": "code",
   "execution_count": null,
   "metadata": {},
   "outputs": [],
   "source": [
    "# Transformation for the images\n",
    "transform = transforms.Compose(\n",
    "    [\n",
    "        transforms.Resize((224, 224)),\n",
    "        transforms.ToTensor(),\n",
    "        transforms.Normalize(mean=[0.485, 0.456, 0.406], std=[0.229, 0.224, 0.225]),\n",
    "    ]\n",
    ")\n"
   ]
  },
  {
   "cell_type": "code",
   "execution_count": 4,
   "metadata": {},
   "outputs": [],
   "source": [
    "device = torch.device(\"cuda\" if torch.cuda.is_available() else \"cpu\")\n",
    "vgg16 = models.vgg16(pretrained=True).features.to(device)\n",
    "#vgg16 = torch.nn.Sequential(*list(vgg16.children())[:-1])"
   ]
  },
  {
   "cell_type": "code",
   "execution_count": 6,
   "metadata": {},
   "outputs": [],
   "source": [
    "\n",
    "# A function to extract features for a given image\n",
    "def extract_features(img_path):\n",
    "    img = Image.open(img_path).convert(\"RGB\")\n",
    "    img_t = transform(img).unsqueeze(0).to(device)\n",
    "    with torch.no_grad():\n",
    "        features = vgg16(img_t)\n",
    "    return features.cpu().numpy().flatten()\n",
    "\n"
   ]
  },
  {
   "cell_type": "code",
   "execution_count": 7,
   "metadata": {},
   "outputs": [],
   "source": [
    "\n",
    "def extract_image_data(dataset_path, extract_features_fn = None, considered_eras = ['00', '01', '02', '03', '04', '05', '06'], early_stop= False):\n",
    "    characters = {}\n",
    "    edges = []\n",
    "    edge_attr = []\n",
    "    # Load and process each image\n",
    "    t = 0\n",
    "    for root, dirs, files in tqdm(os.walk(dataset_path)):\n",
    "        for file in sorted(files):\n",
    "            if file.endswith(\".png\") and file.split(\"_\")[-1][:2] in considered_eras:\n",
    "                char_class, era = os.path.basename(root), file.split(\"_\")[-1][:2]\n",
    "                if char_class not in characters:\n",
    "                    characters[char_class] = []\n",
    "                \n",
    "                img_path = os.path.join(root, file)\n",
    "                if extract_features_fn is not None:\n",
    "                    features = extract_features_fn(img_path)\n",
    "                    res = (t, features, era, img_path)\n",
    "                else:\n",
    "                    res = (t, None, era, img_path)\n",
    "\n",
    "                characters[char_class].append(res)\n",
    "                t+=1\n",
    "        if t > 40 and early_stop:\n",
    "            break\n",
    "    return characters\n",
    "\n"
   ]
  },
  {
   "cell_type": "code",
   "execution_count": 8,
   "metadata": {},
   "outputs": [
    {
     "name": "stderr",
     "output_type": "stream",
     "text": [
      "8it [00:12,  1.55s/it]\n"
     ]
    }
   ],
   "source": [
    "dataset_path = \"images_background\"\n",
    "data_images_dict = extract_image_data(dataset_path, extract_features_fn=extract_features, early_stop=True)"
   ]
  },
  {
   "cell_type": "code",
   "execution_count": 9,
   "metadata": {},
   "outputs": [],
   "source": [
    "char_class_encoder = LabelEncoder()\n",
    "char_class_id_map = char_class_encoder.fit(list(data_images_dict.keys()))\n"
   ]
  },
  {
   "cell_type": "code",
   "execution_count": 26,
   "metadata": {},
   "outputs": [],
   "source": [
    "def generate_graph_data_from_dict(data_images_dict):\n",
    "    edges = []\n",
    "    X = []\n",
    "    y = []\n",
    "    for char_class, data in data_images_dict.items():\n",
    "        node_ids = [data[i][0] for i in range(len(data))]\n",
    "        pairs = list(permutations(node_ids, 2))\n",
    "        edges += pairs # Add pairs to the edges within a character class\n",
    "        features = [data[i][1] for i in range(len(data))]\n",
    "        X += features # Append features\n",
    "        eras = [data[i][2] for i in range(len(data))]\n",
    "        print(eras)\n",
    "        y += eras\n",
    "        #img_path = [data[i][3] for i in range(len(data))]\n",
    "    E = torch.tensor(edges, dtype=torch.long).t().contiguous()\n",
    "    X = torch.tensor(X, dtype=torch.float)\n",
    "    y = torch.tensor(y, dtype=torch.long)\n",
    "    print(y)\n",
    "    # Create PyG Data object\n",
    "    data = Data(x=X, edge_index=E, y=y)\n",
    "    return data\n"
   ]
  },
  {
   "cell_type": "code",
   "execution_count": 27,
   "metadata": {},
   "outputs": [],
   "source": [
    "def load_graph_from_data(data, device = 'cpu'):\n",
    "    device = 'cuda' if torch.cuda.is_available() else 'cpu'  # check if cuda is available to send the model and tensors to the GPU\n",
    "    model = Node2Vec(data.edge_index, embedding_dim=128, walk_length=20,\n",
    "                    context_size=10, walks_per_node=10,\n",
    "                    num_negative_samples=1, p=1, q=1, sparse=True).to(device)\n",
    "    loader = model.loader(batch_size=128, shuffle=True, num_workers=4)  # data loader to speed the train \n",
    "    optimizer = torch.optim.SparseAdam(list(model.parameters()), lr=0.01)  # initzialize the optimizer \n",
    "    return model, loader, optimizer"
   ]
  },
  {
   "cell_type": "code",
   "execution_count": 28,
   "metadata": {},
   "outputs": [
    {
     "name": "stdout",
     "output_type": "stream",
     "text": [
      "['02', '03', '04', '05']\n",
      "['01', '02', '03', '04', '05']\n",
      "['01', '02', '03', '04', '05']\n",
      "['01', '02', '03', '04', '05', '06']\n",
      "['01', '02', '03', '04', '05']\n",
      "['01', '02', '03', '04', '05', '06']\n",
      "['01', '02', '03', '04', '05', '06']\n",
      "['01', '02', '03', '04', '05', '06']\n"
     ]
    },
    {
     "ename": "ValueError",
     "evalue": "too many dimensions 'str'",
     "output_type": "error",
     "traceback": [
      "\u001b[0;31m---------------------------------------------------------------------------\u001b[0m",
      "\u001b[0;31mValueError\u001b[0m                                Traceback (most recent call last)",
      "Cell \u001b[0;32mIn[28], line 1\u001b[0m\n\u001b[0;32m----> 1\u001b[0m data \u001b[38;5;241m=\u001b[39m \u001b[43mgenerate_graph_data_from_dict\u001b[49m\u001b[43m(\u001b[49m\u001b[43mdata_images_dict\u001b[49m\u001b[43m)\u001b[49m\n\u001b[1;32m      2\u001b[0m load_graph_from_data(data)\n",
      "Cell \u001b[0;32mIn[26], line 17\u001b[0m, in \u001b[0;36mgenerate_graph_data_from_dict\u001b[0;34m(data_images_dict)\u001b[0m\n\u001b[1;32m     15\u001b[0m E \u001b[38;5;241m=\u001b[39m torch\u001b[38;5;241m.\u001b[39mtensor(edges, dtype\u001b[38;5;241m=\u001b[39mtorch\u001b[38;5;241m.\u001b[39mlong)\u001b[38;5;241m.\u001b[39mt()\u001b[38;5;241m.\u001b[39mcontiguous()\n\u001b[1;32m     16\u001b[0m X \u001b[38;5;241m=\u001b[39m torch\u001b[38;5;241m.\u001b[39mtensor(X, dtype\u001b[38;5;241m=\u001b[39mtorch\u001b[38;5;241m.\u001b[39mfloat)\n\u001b[0;32m---> 17\u001b[0m y \u001b[38;5;241m=\u001b[39m \u001b[43mtorch\u001b[49m\u001b[38;5;241;43m.\u001b[39;49m\u001b[43mtensor\u001b[49m\u001b[43m(\u001b[49m\u001b[43my\u001b[49m\u001b[43m,\u001b[49m\u001b[43m \u001b[49m\u001b[43mdtype\u001b[49m\u001b[38;5;241;43m=\u001b[39;49m\u001b[43mtorch\u001b[49m\u001b[38;5;241;43m.\u001b[39;49m\u001b[43mlong\u001b[49m\u001b[43m)\u001b[49m\n\u001b[1;32m     18\u001b[0m \u001b[38;5;28mprint\u001b[39m(y)\n\u001b[1;32m     19\u001b[0m \u001b[38;5;66;03m# Create PyG Data object\u001b[39;00m\n",
      "\u001b[0;31mValueError\u001b[0m: too many dimensions 'str'"
     ]
    }
   ],
   "source": [
    "\n",
    "data = generate_graph_data_from_dict(data_images_dict)\n",
    "load_graph_from_data(data)"
   ]
  },
  {
   "cell_type": "code",
   "execution_count": null,
   "metadata": {},
   "outputs": [],
   "source": []
  }
 ],
 "metadata": {
  "kernelspec": {
   "display_name": "weber_env_2",
   "language": "python",
   "name": "python3"
  },
  "language_info": {
   "codemirror_mode": {
    "name": "ipython",
    "version": 3
   },
   "file_extension": ".py",
   "mimetype": "text/x-python",
   "name": "python",
   "nbconvert_exporter": "python",
   "pygments_lexer": "ipython3",
   "version": "3.8.19"
  }
 },
 "nbformat": 4,
 "nbformat_minor": 2
}
