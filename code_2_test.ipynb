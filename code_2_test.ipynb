{
 "cells": [
  {
   "cell_type": "code",
   "execution_count": 177,
   "metadata": {},
   "outputs": [],
   "source": [
    "\n",
    "import torch\n",
    "import torchvision.models as models\n",
    "import torchvision.transforms as transforms\n",
    "from PIL import Image\n",
    "import os\n",
    "import numpy as np\n",
    "from sklearn.preprocessing import LabelEncoder\n",
    "from torch_geometric.data import Data\n",
    "from tqdm import tqdm\n",
    "from torch_geometric.nn import Node2Vec\n",
    "from itertools import permutations\n"
   ]
  },
  {
   "cell_type": "code",
   "execution_count": 19,
   "metadata": {},
   "outputs": [],
   "source": [
    "# Transformation for the images\n",
    "transform = transforms.Compose(\n",
    "    [\n",
    "        transforms.Resize((224, 224)),\n",
    "        transforms.ToTensor(),\n",
    "        transforms.Normalize(mean=[0.485, 0.456, 0.406], std=[0.229, 0.224, 0.225]),\n",
    "    ]\n",
    ")\n"
   ]
  },
  {
   "cell_type": "code",
   "execution_count": 79,
   "metadata": {},
   "outputs": [
    {
     "name": "stderr",
     "output_type": "stream",
     "text": [
      "/n/home02/rskeweszorrilla/miniconda/envs/weber_env_2/lib/python3.8/site-packages/torchvision/models/_utils.py:208: UserWarning: The parameter 'pretrained' is deprecated since 0.13 and may be removed in the future, please use 'weights' instead.\n",
      "  warnings.warn(\n",
      "/n/home02/rskeweszorrilla/miniconda/envs/weber_env_2/lib/python3.8/site-packages/torchvision/models/_utils.py:223: UserWarning: Arguments other than a weight enum or `None` for 'weights' are deprecated since 0.13 and may be removed in the future. The current behavior is equivalent to passing `weights=VGG16_Weights.IMAGENET1K_V1`. You can also use `weights=VGG16_Weights.DEFAULT` to get the most up-to-date weights.\n",
      "  warnings.warn(msg)\n"
     ]
    }
   ],
   "source": [
    "device = torch.device(\"cuda\" if torch.cuda.is_available() else \"cpu\")\n",
    "vgg16 = models.vgg16(pretrained=True).features.to(device)\n",
    "#vgg16 = torch.nn.Sequential(*list(vgg16.children())[:-1])"
   ]
  },
  {
   "cell_type": "code",
   "execution_count": null,
   "metadata": {},
   "outputs": [],
   "source": []
  },
  {
   "cell_type": "code",
   "execution_count": 128,
   "metadata": {},
   "outputs": [],
   "source": [
    "\n",
    "# A function to extract features for a given image\n",
    "def extract_features(img_path):\n",
    "    img = Image.open(img_path).convert(\"RGB\")\n",
    "    img_t = transform(img).unsqueeze(0).to(device)\n",
    "    with torch.no_grad():\n",
    "        features = vgg16(img_t)\n",
    "    return features.cpu().numpy().flatten()\n",
    "\n"
   ]
  },
  {
   "cell_type": "code",
   "execution_count": 136,
   "metadata": {},
   "outputs": [],
   "source": [
    "\n",
    "def extract_image_data(dataset_path, extract_features_fn = None, considered_eras = ['00', '01', '02', '03', '04', '05', '06'], early_stop= False):\n",
    "    characters = {}\n",
    "    edges = []\n",
    "    edge_attr = []\n",
    "    # Load and process each image\n",
    "    t = 0\n",
    "    for root, dirs, files in tqdm(os.walk(dataset_path)):\n",
    "        for file in sorted(files):\n",
    "            if file.endswith(\".png\") and file.split(\"_\")[-1][:2] in considered_eras:\n",
    "                char_class, era = os.path.basename(root), file.split(\"_\")[-1][:2]\n",
    "                if char_class not in characters:\n",
    "                    characters[char_class] = []\n",
    "                \n",
    "                img_path = os.path.join(root, file)\n",
    "                if extract_features_fn is not None:\n",
    "                    features = extract_features_fn(img_path)\n",
    "                    res = (t, features, era, img_path)\n",
    "                else:\n",
    "                    res = (t, None, era, img_path)\n",
    "\n",
    "                characters[char_class].append(res)\n",
    "                t+=1\n",
    "        if t > 40 and early_stop:\n",
    "            break\n",
    "    return characters\n",
    "\n"
   ]
  },
  {
   "cell_type": "code",
   "execution_count": 137,
   "metadata": {},
   "outputs": [
    {
     "name": "stderr",
     "output_type": "stream",
     "text": [
      "8it [00:09,  1.20s/it]\n"
     ]
    }
   ],
   "source": [
    "dataset_path = \"images_background\"\n",
    "data_images_dict = extract_image_data(dataset_path, extract_features_fn=extract_features, early_stop=True)"
   ]
  },
  {
   "cell_type": "code",
   "execution_count": 138,
   "metadata": {},
   "outputs": [],
   "source": [
    "char_class_encoder = LabelEncoder()\n",
    "char_class_id_map = char_class_encoder.fit(list(data_images_dict.keys()))\n"
   ]
  },
  {
   "cell_type": "code",
   "execution_count": 183,
   "metadata": {},
   "outputs": [],
   "source": [
    "def generate_graph_data_from_dict(data_images_dict):\n",
    "    edges = []\n",
    "    X = []\n",
    "    y = []\n",
    "    for char_class, data in data_images_dict.items():\n",
    "        node_ids = [data[i][0] for i in range(len(data))]\n",
    "        pairs = list(permutations(node_ids, 2))\n",
    "        edges += pairs # Add pairs to the edges within a character class\n",
    "        features = [data[i][1] for i in range(len(data))]\n",
    "        X += features # Append features\n",
    "        eras = [data[i][2] for i in range(len(data))]\n",
    "        y += eras\n",
    "        #img_path = [data[i][3] for i in range(len(data))]\n",
    "    E = torch.tensor(edges, dtype=torch.long).t().contiguous()\n",
    "    X = torch.tensor(X, dtype=torch.float)\n",
    "    y = torch.tensor(y, dtype=torch.long)\n",
    "\n",
    "    # Create PyG Data object\n",
    "    data = Data(x=X, edge_index=E, y=y)\n",
    "    return data\n"
   ]
  },
  {
   "cell_type": "code",
   "execution_count": 184,
   "metadata": {},
   "outputs": [],
   "source": [
    "def load_graph_from_data(data, device = 'cpu'):\n",
    "    device = 'cuda' if torch.cuda.is_available() else 'cpu'  # check if cuda is available to send the model and tensors to the GPU\n",
    "    model = Node2Vec(data.edge_index, embedding_dim=128, walk_length=20,\n",
    "                    context_size=10, walks_per_node=10,\n",
    "                    num_negative_samples=1, p=1, q=1, sparse=True).to(device)\n",
    "    loader = model.loader(batch_size=128, shuffle=True, num_workers=4)  # data loader to speed the train \n",
    "    optimizer = torch.optim.SparseAdam(list(model.parameters()), lr=0.01)  # initzialize the optimizer \n",
    "    return model, loader, optimizer"
   ]
  },
  {
   "cell_type": "code",
   "execution_count": 185,
   "metadata": {},
   "outputs": [
    {
     "name": "stdout",
     "output_type": "stream",
     "text": [
      "[(0, 1), (0, 2), (0, 3), (1, 0), (1, 2), (1, 3), (2, 0), (2, 1), (2, 3), (3, 0), (3, 1), (3, 2)]\n",
      "[(4, 5), (4, 6), (4, 7), (4, 8), (5, 4), (5, 6), (5, 7), (5, 8), (6, 4), (6, 5), (6, 7), (6, 8), (7, 4), (7, 5), (7, 6), (7, 8), (8, 4), (8, 5), (8, 6), (8, 7)]\n",
      "[(9, 10), (9, 11), (9, 12), (9, 13), (10, 9), (10, 11), (10, 12), (10, 13), (11, 9), (11, 10), (11, 12), (11, 13), (12, 9), (12, 10), (12, 11), (12, 13), (13, 9), (13, 10), (13, 11), (13, 12)]\n",
      "[(14, 15), (14, 16), (14, 17), (14, 18), (14, 19), (15, 14), (15, 16), (15, 17), (15, 18), (15, 19), (16, 14), (16, 15), (16, 17), (16, 18), (16, 19), (17, 14), (17, 15), (17, 16), (17, 18), (17, 19), (18, 14), (18, 15), (18, 16), (18, 17), (18, 19), (19, 14), (19, 15), (19, 16), (19, 17), (19, 18)]\n",
      "[(20, 21), (20, 22), (20, 23), (20, 24), (21, 20), (21, 22), (21, 23), (21, 24), (22, 20), (22, 21), (22, 23), (22, 24), (23, 20), (23, 21), (23, 22), (23, 24), (24, 20), (24, 21), (24, 22), (24, 23)]\n",
      "[(25, 26), (25, 27), (25, 28), (25, 29), (25, 30), (26, 25), (26, 27), (26, 28), (26, 29), (26, 30), (27, 25), (27, 26), (27, 28), (27, 29), (27, 30), (28, 25), (28, 26), (28, 27), (28, 29), (28, 30), (29, 25), (29, 26), (29, 27), (29, 28), (29, 30), (30, 25), (30, 26), (30, 27), (30, 28), (30, 29)]\n",
      "[(31, 32), (31, 33), (31, 34), (31, 35), (31, 36), (32, 31), (32, 33), (32, 34), (32, 35), (32, 36), (33, 31), (33, 32), (33, 34), (33, 35), (33, 36), (34, 31), (34, 32), (34, 33), (34, 35), (34, 36), (35, 31), (35, 32), (35, 33), (35, 34), (35, 36), (36, 31), (36, 32), (36, 33), (36, 34), (36, 35)]\n",
      "[(37, 38), (37, 39), (37, 40), (37, 41), (37, 42), (38, 37), (38, 39), (38, 40), (38, 41), (38, 42), (39, 37), (39, 38), (39, 40), (39, 41), (39, 42), (40, 37), (40, 38), (40, 39), (40, 41), (40, 42), (41, 37), (41, 38), (41, 39), (41, 40), (41, 42), (42, 37), (42, 38), (42, 39), (42, 40), (42, 41)]\n"
     ]
    }
   ],
   "source": []
  },
  {
   "cell_type": "code",
   "execution_count": null,
   "metadata": {},
   "outputs": [],
   "source": []
  }
 ],
 "metadata": {
  "kernelspec": {
   "display_name": "weber_env_2",
   "language": "python",
   "name": "python3"
  },
  "language_info": {
   "codemirror_mode": {
    "name": "ipython",
    "version": 3
   },
   "file_extension": ".py",
   "mimetype": "text/x-python",
   "name": "python",
   "nbconvert_exporter": "python",
   "pygments_lexer": "ipython3",
   "version": "3.8.19"
  }
 },
 "nbformat": 4,
 "nbformat_minor": 2
}
