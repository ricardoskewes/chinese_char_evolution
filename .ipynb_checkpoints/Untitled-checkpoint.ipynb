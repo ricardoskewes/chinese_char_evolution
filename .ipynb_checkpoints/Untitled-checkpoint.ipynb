{
 "cells": [
  {
   "cell_type": "code",
   "execution_count": null,
   "id": "9526724b-f9f2-4d47-b5d8-832711c4a181",
   "metadata": {},
   "outputs": [],
   "source": [
    "import torch\n",
    "import torchvision.models as models\n",
    "import torchvision.transforms as transforms\n",
    "from PIL import Image\n",
    "import os\n",
    "import numpy as np\n",
    "from sklearn.preprocessing import LabelEncoder\n",
    "from torch_geometric.data import Data"
   ]
  },
  {
   "cell_type": "code",
   "execution_count": null,
   "id": "1f4b9c83-d990-4586-81f5-6ad1cea82a4e",
   "metadata": {},
   "outputs": [],
   "source": []
  },
  {
   "cell_type": "code",
   "execution_count": 13,
   "id": "9082f92e-0720-45dd-994f-4d1570fcdf39",
   "metadata": {},
   "outputs": [
    {
     "name": "stdout",
     "output_type": "stream",
     "text": [
      "no change     /n/home02/rskeweszorrilla/miniconda/condabin/conda\n",
      "no change     /n/home02/rskeweszorrilla/miniconda/bin/conda\n",
      "no change     /n/home02/rskeweszorrilla/miniconda/bin/conda-env\n",
      "no change     /n/home02/rskeweszorrilla/miniconda/bin/activate\n",
      "no change     /n/home02/rskeweszorrilla/miniconda/bin/deactivate\n",
      "no change     /n/home02/rskeweszorrilla/miniconda/etc/profile.d/conda.sh\n",
      "no change     /n/home02/rskeweszorrilla/miniconda/etc/fish/conf.d/conda.fish\n",
      "no change     /n/home02/rskeweszorrilla/miniconda/shell/condabin/Conda.psm1\n",
      "no change     /n/home02/rskeweszorrilla/miniconda/shell/condabin/conda-hook.ps1\n",
      "no change     /n/home02/rskeweszorrilla/miniconda/lib/python3.12/site-packages/xontrib/conda.xsh\n",
      "no change     /n/home02/rskeweszorrilla/miniconda/etc/profile.d/conda.csh\n",
      "no change     /n/home02/rskeweszorrilla/.bashrc\n",
      "No action taken.\n"
     ]
    }
   ],
   "source": [
    "!conda init bash"
   ]
  },
  {
   "cell_type": "code",
   "execution_count": 14,
   "id": "eecd2933-00d0-4385-85b1-bdea3784281c",
   "metadata": {},
   "outputs": [
    {
     "name": "stdout",
     "output_type": "stream",
     "text": [
      "\n",
      "CondaError: Run 'conda init' before 'conda activate'\n",
      "\n"
     ]
    }
   ],
   "source": [
    "!conda activate weber_env"
   ]
  },
  {
   "cell_type": "code",
   "execution_count": null,
   "id": "32dcbdfe-407e-4f34-9e23-eb27abd727c1",
   "metadata": {},
   "outputs": [],
   "source": [
    "\n",
    "# Device configuration\n",
    "device = torch.device('cuda' if torch.cuda.is_available() else 'cpu')\n",
    "\n",
    "# Load the pre-trained VGG16 model\n",
    "vgg16 = models.vgg16(pretrained=True).features.to(device)\n",
    "\n",
    "# Disable gradient computations (we won't be training VGG16)\n",
    "for param in vgg16.parameters():\n",
    "    param.requires_grad = False\n",
    "\n",
    "# Transformation for the images\n",
    "transform = transforms.Compose([\n",
    "    transforms.Resize((224, 224)),\n",
    "    transforms.ToTensor(),\n",
    "    transforms.Normalize(mean=[0.485, 0.456, 0.406], std=[0.229, 0.224, 0.225]),\n",
    "])\n",
    "\n",
    "# A function to extract features for a given image\n",
    "def extract_features(img_path):\n",
    "    img = Image.open(img_path).convert('RGB')\n",
    "    img_t = transform(img).unsqueeze(0).to(device)\n",
    "    with torch.no_grad():\n",
    "        features = vgg16(img_t)\n",
    "    return features.cpu().numpy().flatten()\n",
    "\n",
    "# Create a graph from the dataset\n",
    "def create_graph_from_dataset(dataset_path):\n",
    "    characters = {}\n",
    "    edges = []\n",
    "    edge_attr = []\n",
    "    \n",
    "    # Label encoding for eras\n",
    "    era_encoder = LabelEncoder()\n",
    "    eras = ['01', '02', '03', '04', '05']\n",
    "    era_encoder.fit(eras)\n",
    "    \n",
    "    # Load and process each image\n",
    "    for root, dirs, files in os.walk(dataset_path):\n",
    "        for file in sorted(files):\n",
    "            if file.endswith('.jpg') and file.split('_')[-1][:2] in eras:\n",
    "                char_class, era = os.path.basename(root), file.split('_')[-1][:2]\n",
    "                if char_class not in characters:\n",
    "                    characters[char_class] = []\n",
    "\n",
    "                img_path = os.path.join(root, file)\n",
    "                features = extract_features(img_path)\n",
    "                node_id = len(characters[char_class])\n",
    "                characters[char_class].append((node_id, features, era))\n",
    "\n",
    "                # Create edges between consecutive eras for the same character\n",
    "                if node_id > 0:  # Avoid the first era as it has no previous era\n",
    "                    src = characters[char_class][node_id-1][0]\n",
    "                    dst = node_id\n",
    "                    edges.append((src, dst))\n",
    "                    edge_attr.append(era_encoder.transform([era])[0])\n",
    "    \n",
    "    # Compile all node features and era labels\n",
    "    all_features = []\n",
    "    all_labels = []\n",
    "    for char_class in characters:\n",
    "        for node_id, features, era in characters[char_class]:\n",
    "            all_features.append(features)\n",
    "            all_labels.append(era_encoder.transform([era])[0])\n",
    "    \n",
    "    # Convert to tensors\n",
    "    edge_index = torch.tensor(edges, dtype=torch.long).t().contiguous()\n",
    "    node_features = torch.tensor(all_features, dtype=torch.float)\n",
    "    labels = torch.tensor(all_labels, dtype=torch.long)\n",
    "\n",
    "    # Create PyG Data object\n",
    "    data = Data(x=node_features, edge_index=edge_index, y=labels)\n",
    "    return data\n",
    "\n",
    "# Path to your 'images_background' directory\n",
    "dataset_path = 'images_background'\n",
    "graph_data = create_graph_from_dataset(dataset_path)\n"
   ]
  },
  {
   "cell_type": "code",
   "execution_count": null,
   "id": "37be0a60-0b04-4a7d-982a-44dad35cd333",
   "metadata": {},
   "outputs": [],
   "source": []
  }
 ],
 "metadata": {
  "kernelspec": {
   "display_name": "weber_env",
   "language": "python",
   "name": "weber_env"
  },
  "language_info": {
   "codemirror_mode": {
    "name": "ipython",
    "version": 3
   },
   "file_extension": ".py",
   "mimetype": "text/x-python",
   "name": "python",
   "nbconvert_exporter": "python",
   "pygments_lexer": "ipython3",
   "version": "3.11.8"
  }
 },
 "nbformat": 4,
 "nbformat_minor": 5
}
